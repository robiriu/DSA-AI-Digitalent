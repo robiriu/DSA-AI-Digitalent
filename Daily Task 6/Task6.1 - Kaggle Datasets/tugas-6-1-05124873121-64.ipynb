{
 "cells": [
  {
   "cell_type": "markdown",
   "id": "73bf8207",
   "metadata": {},
   "source": [
    "Tugas 6.1\\\n",
    "Nama : Robi Dany Riupassa\\\n",
    "Kelas : ITS06\\\n",
    "\\\n",
    "Mengunduh dua dataset dari kaggle dengan kaggle API.\\\n",
    "Dataset 1 : Indonesia's Top E-Commerce Tweets\\\n",
    "Dataset 2 : Volcanoes in Indonesia\n"
   ]
  },
  {
   "cell_type": "markdown",
   "id": "830d3987",
   "metadata": {},
   "source": [
    "### Dataset 1"
   ]
  },
  {
   "cell_type": "code",
   "execution_count": 1,
   "id": "7a44e9e0",
   "metadata": {
    "scrolled": true
   },
   "outputs": [],
   "source": [
    "# Kaggle API sudah pernah diinstal sebelumnya\n",
    "# pip install kaggle"
   ]
  },
  {
   "cell_type": "code",
   "execution_count": 1,
   "id": "9bca0fa5",
   "metadata": {},
   "outputs": [
    {
     "name": "stdout",
     "output_type": "stream",
     "text": [
      "ref                                                title                              size  lastUpdated          downloadCount  voteCount  usabilityRating  \r\n",
      "-------------------------------------------------  ---------------------------------  ----  -------------------  -------------  ---------  ---------------  \r\n",
      "robertvici/indonesia-top-ecommerce-unicorn-tweets  Indonesia's Top E-Commerce Tweets  49MB  2020-05-31 04:13:31            362         20  0.8125           \r\n"
     ]
    }
   ],
   "source": [
    "!kaggle datasets list -s “indonesia-top-ecommerce-unicorn-tweets”"
   ]
  },
  {
   "cell_type": "code",
   "execution_count": 2,
   "id": "a19507e5",
   "metadata": {},
   "outputs": [
    {
     "name": "stdout",
     "output_type": "stream",
     "text": [
      "Downloading indonesia-top-ecommerce-unicorn-tweets.zip to /media/ane/78C9-7BF7/DATA3/DATA BALUBUR/Digital Talent/2021/Associate Data Scientist_ Artificial Intelligence untuk Dosen dan Instruktur/Kelas DS_ITS06 ! 10.30 - 12.00/LMS/Course/Modul 6_Data Understanding 1 (Mengumpulkan Data , Menelaah Data dengan Metoda Statistik)/Tugas Harian/Notebook/Tugas 6.1\n",
      "100%|███████████████████████████████████████| 49.3M/49.3M [01:46<00:00, 602kB/s]\n",
      "100%|███████████████████████████████████████| 49.3M/49.3M [01:46<00:00, 486kB/s]\n"
     ]
    }
   ],
   "source": [
    "!kaggle datasets download robertvici/indonesia-top-ecommerce-unicorn-tweets"
   ]
  },
  {
   "cell_type": "code",
   "execution_count": 5,
   "id": "667876c5",
   "metadata": {},
   "outputs": [
    {
     "name": "stdout",
     "output_type": "stream",
     "text": [
      "Archive:  indonesia-top-ecommerce-unicorn-tweets.zip\n",
      "  inflating: ShopeeID.json           \n",
      "  inflating: bliblidotcom.json       \n",
      "  inflating: bukalapak.json          \n",
      "  inflating: lazadaID.json           \n",
      "  inflating: tokopedia.json          \n"
     ]
    }
   ],
   "source": [
    "!unzip indonesia-top-ecommerce-unicorn-tweets.zip"
   ]
  },
  {
   "cell_type": "markdown",
   "id": "ec012baa",
   "metadata": {},
   "source": [
    "### Dataset 2"
   ]
  },
  {
   "cell_type": "code",
   "execution_count": 3,
   "id": "37c17294",
   "metadata": {},
   "outputs": [
    {
     "name": "stdout",
     "output_type": "stream",
     "text": [
      "ref                              title                    size  lastUpdated          downloadCount  voteCount  usabilityRating  \r\n",
      "-------------------------------  ----------------------  -----  -------------------  -------------  ---------  ---------------  \r\n",
      "heyrobin/volcanoes-in-indonesia  Volcanoes in Indonesia    5KB  2021-06-27 07:08:09             37          7  1.0              \r\n",
      "jessemostipak/volcano-eruptions  Volcano Eruptions       666KB  2020-05-11 16:50:57            961         16  0.88235295       \r\n"
     ]
    }
   ],
   "source": [
    "!kaggle datasets list -s “volcanoes-in-indonesia”"
   ]
  },
  {
   "cell_type": "code",
   "execution_count": 4,
   "id": "4e4915f9",
   "metadata": {},
   "outputs": [
    {
     "name": "stdout",
     "output_type": "stream",
     "text": [
      "Downloading volcanoes-in-indonesia.zip to /media/ane/78C9-7BF7/DATA3/DATA BALUBUR/Digital Talent/2021/Associate Data Scientist_ Artificial Intelligence untuk Dosen dan Instruktur/Kelas DS_ITS06 ! 10.30 - 12.00/LMS/Course/Modul 6_Data Understanding 1 (Mengumpulkan Data , Menelaah Data dengan Metoda Statistik)/Tugas Harian/Notebook/Tugas 6.1\n",
      "100%|██████████████████████████████████████| 5.42k/5.42k [00:00<00:00, 42.6kB/s]\n",
      "100%|██████████████████████████████████████| 5.42k/5.42k [00:00<00:00, 23.8kB/s]\n"
     ]
    }
   ],
   "source": [
    "!kaggle datasets download heyrobin/volcanoes-in-indonesia"
   ]
  },
  {
   "cell_type": "code",
   "execution_count": 6,
   "id": "639f92ac",
   "metadata": {},
   "outputs": [
    {
     "name": "stdout",
     "output_type": "stream",
     "text": [
      "Archive:  volcanoes-in-indonesia.zip\n",
      "  inflating: Major_eruption.csv      \n",
      "  inflating: volcano_indo.csv        \n"
     ]
    }
   ],
   "source": [
    "!unzip volcanoes-in-indonesia.zip"
   ]
  }
 ],
 "metadata": {
  "kernelspec": {
   "display_name": "Python 3",
   "language": "python",
   "name": "python3"
  },
  "language_info": {
   "codemirror_mode": {
    "name": "ipython",
    "version": 3
   },
   "file_extension": ".py",
   "mimetype": "text/x-python",
   "name": "python",
   "nbconvert_exporter": "python",
   "pygments_lexer": "ipython3",
   "version": "3.7.6"
  }
 },
 "nbformat": 4,
 "nbformat_minor": 5
}
